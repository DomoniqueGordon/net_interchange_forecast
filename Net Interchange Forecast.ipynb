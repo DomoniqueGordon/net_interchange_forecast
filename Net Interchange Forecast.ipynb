{
 "cells": [
  {
   "cell_type": "markdown",
   "metadata": {},
   "source": [
    "# Predicting Net Interchange with ARIMA & Neural Network Models"
   ]
  },
  {
   "cell_type": "markdown",
   "metadata": {},
   "source": [
    "* [Data Preparation](#data-preparation)\n",
    "    * [Package Imports](#package-imports)\n",
    "    * [Data Import](#data-import)\n",
    "    * [Train and Test Data](#train-and-test-data)\n",
    "* [ARIMA](#arima)\n",
    "    * [Evaluating ARIMA Performance](#evaluating-arima-performance)\n",
    "    * [Visualizing ARIMA Performance](#visualizing-arima-performance)\n",
    "* [Neural Network](#neural-network)\n",
    "    * [Train-Test Split](#train-test-split)\n",
    "    * [Training Neural Network Model](#training-neural-network-model)\n",
    "    * [Making Predictions with Neural Network Model](#making-predictions-with-neural-network-model)\n",
    "    * [Evaluating Neural Network Performance](#evaluating-neural-network-performance)\n",
    "    * [Visualizing Neural Network Performance](#visualizing-neural-network-performance)"
   ]
  },
  {
   "cell_type": "markdown",
   "metadata": {},
   "source": [
    "## Data Preparation <a class=\"anchor\" id=\"data-preparation\"></a>"
   ]
  },
  {
   "cell_type": "markdown",
   "metadata": {
    "id": "ZIFieWh4YmZr"
   },
   "source": [
    "### Package Imports <a class=\"anchor\" id=\"package-imports\"></a>"
   ]
  },
  {
   "cell_type": "code",
   "execution_count": 1,
   "metadata": {
    "id": "yVuebIuwYtoF"
   },
   "outputs": [],
   "source": [
    "from math import sqrt\n",
    "import numpy as np\n",
    "import pandas as pd\n",
    "\n",
    "\n",
    "# Data Visualization\n",
    "import matplotlib.pyplot as plt\n",
    "import seaborn as sns\n",
    "\n",
    "# Machine Learning Models\n",
    "from keras.layers import Dense\n",
    "from keras.models import Sequential\n",
    "from sklearn.metrics import mean_squared_error\n",
    "from statsmodels.tsa.arima.model import ARIMA\n",
    "\n",
    "plt.style.use('seaborn-white')"
   ]
  },
  {
   "cell_type": "markdown",
   "metadata": {
    "id": "ZIFieWh4YmZr"
   },
   "source": [
    "### Data Import <a class=\"anchor\" id=\"data-import\"></a>"
   ]
  },
  {
   "cell_type": "code",
   "execution_count": 2,
   "metadata": {
    "colab": {
     "base_uri": "https://localhost:8080/",
     "height": 419
    },
    "id": "NJmtlEp9VJdm",
    "outputId": "8200aca5-9544-49c4-c75d-86dbc6de6fdb"
   },
   "outputs": [
    {
     "data": {
      "text/html": [
       "<div>\n",
       "<style scoped>\n",
       "    .dataframe tbody tr th:only-of-type {\n",
       "        vertical-align: middle;\n",
       "    }\n",
       "\n",
       "    .dataframe tbody tr th {\n",
       "        vertical-align: top;\n",
       "    }\n",
       "\n",
       "    .dataframe thead th {\n",
       "        text-align: right;\n",
       "    }\n",
       "</style>\n",
       "<table border=\"1\" class=\"dataframe\">\n",
       "  <thead>\n",
       "    <tr style=\"text-align: right;\">\n",
       "      <th></th>\n",
       "      <th>net_interchange</th>\n",
       "    </tr>\n",
       "    <tr>\n",
       "      <th>date</th>\n",
       "      <th></th>\n",
       "    </tr>\n",
       "  </thead>\n",
       "  <tbody>\n",
       "    <tr>\n",
       "      <th>2012-01-01 00:00:00</th>\n",
       "      <td>3895.833333</td>\n",
       "    </tr>\n",
       "    <tr>\n",
       "      <th>2012-01-01 01:00:00</th>\n",
       "      <td>3802.166667</td>\n",
       "    </tr>\n",
       "    <tr>\n",
       "      <th>2012-01-01 02:00:00</th>\n",
       "      <td>3792.416667</td>\n",
       "    </tr>\n",
       "    <tr>\n",
       "      <th>2012-01-01 03:00:00</th>\n",
       "      <td>3719.083333</td>\n",
       "    </tr>\n",
       "    <tr>\n",
       "      <th>2012-01-01 04:00:00</th>\n",
       "      <td>3683.500000</td>\n",
       "    </tr>\n",
       "  </tbody>\n",
       "</table>\n",
       "</div>"
      ],
      "text/plain": [
       "                     net_interchange\n",
       "date                                \n",
       "2012-01-01 00:00:00      3895.833333\n",
       "2012-01-01 01:00:00      3802.166667\n",
       "2012-01-01 02:00:00      3792.416667\n",
       "2012-01-01 03:00:00      3719.083333\n",
       "2012-01-01 04:00:00      3683.500000"
      ]
     },
     "execution_count": 2,
     "metadata": {},
     "output_type": "execute_result"
    }
   ],
   "source": [
    "filename = 'wind_data.csv'\n",
    "df = pd.read_csv(filename, usecols=[\"Date/Time\", \"NET INTERCHANGE (MW; SCADA 45581)\"])\n",
    "\n",
    "cols = [\"date\",\"net_interchange\"]\n",
    "df.columns = cols                        # Rename columns\n",
    "df[\"date\"] = pd.to_datetime(df[\"date\"])  # Convert to datetime datatype\n",
    "df = df.set_index(\"date\")\n",
    "\n",
    "df = df.resample(\"H\").mean()             # Convert to hourly\n",
    "df = df.dropna()                         # Drop null values\n",
    "\n",
    "df.head()"
   ]
  },
  {
   "cell_type": "code",
   "execution_count": 3,
   "metadata": {},
   "outputs": [
    {
     "data": {
      "text/html": [
       "<div>\n",
       "<style scoped>\n",
       "    .dataframe tbody tr th:only-of-type {\n",
       "        vertical-align: middle;\n",
       "    }\n",
       "\n",
       "    .dataframe tbody tr th {\n",
       "        vertical-align: top;\n",
       "    }\n",
       "\n",
       "    .dataframe thead th {\n",
       "        text-align: right;\n",
       "    }\n",
       "</style>\n",
       "<table border=\"1\" class=\"dataframe\">\n",
       "  <thead>\n",
       "    <tr style=\"text-align: right;\">\n",
       "      <th></th>\n",
       "      <th>net_interchange</th>\n",
       "    </tr>\n",
       "  </thead>\n",
       "  <tbody>\n",
       "    <tr>\n",
       "      <th>count</th>\n",
       "      <td>8783.000000</td>\n",
       "    </tr>\n",
       "    <tr>\n",
       "      <th>mean</th>\n",
       "      <td>7378.965400</td>\n",
       "    </tr>\n",
       "    <tr>\n",
       "      <th>std</th>\n",
       "      <td>2483.852294</td>\n",
       "    </tr>\n",
       "    <tr>\n",
       "      <th>min</th>\n",
       "      <td>1345.166667</td>\n",
       "    </tr>\n",
       "    <tr>\n",
       "      <th>25%</th>\n",
       "      <td>5373.666667</td>\n",
       "    </tr>\n",
       "    <tr>\n",
       "      <th>50%</th>\n",
       "      <td>7611.416667</td>\n",
       "    </tr>\n",
       "    <tr>\n",
       "      <th>75%</th>\n",
       "      <td>9445.708333</td>\n",
       "    </tr>\n",
       "    <tr>\n",
       "      <th>max</th>\n",
       "      <td>12690.666667</td>\n",
       "    </tr>\n",
       "  </tbody>\n",
       "</table>\n",
       "</div>"
      ],
      "text/plain": [
       "       net_interchange\n",
       "count      8783.000000\n",
       "mean       7378.965400\n",
       "std        2483.852294\n",
       "min        1345.166667\n",
       "25%        5373.666667\n",
       "50%        7611.416667\n",
       "75%        9445.708333\n",
       "max       12690.666667"
      ]
     },
     "execution_count": 3,
     "metadata": {},
     "output_type": "execute_result"
    }
   ],
   "source": [
    "df.describe()"
   ]
  },
  {
   "cell_type": "markdown",
   "metadata": {},
   "source": [
    "### Train and Test Data <a class=\"anchor\" id=\"train-and-test-data\"></a>"
   ]
  },
  {
   "cell_type": "code",
   "execution_count": 4,
   "metadata": {},
   "outputs": [],
   "source": [
    "X = df[\"net_interchange\"].values\n",
    "test_size = 24  # We will be forecasting 24 hours\n",
    "perc_train = 1 - test_size/len(X)\n",
    "train_size = int(len(X) * perc_train)\n",
    "train, test = X[0:train_size], X[train_size:len(X)]"
   ]
  },
  {
   "cell_type": "markdown",
   "metadata": {},
   "source": [
    "## ARIMA <a class=\"anchor\" id=\"arima\"></a>"
   ]
  },
  {
   "cell_type": "code",
   "execution_count": 5,
   "metadata": {},
   "outputs": [
    {
     "name": "stdout",
     "output_type": "stream",
     "text": [
      "predicted=5581.604174, actual=5434.583333, difference=-147.020840\n",
      "predicted=5371.154774, actual=5537.666667, difference=166.511892\n",
      "predicted=5678.744867, actual=5202.000000, difference=-476.744867\n",
      "predicted=5228.558390, actual=5279.916667, difference=51.358277\n",
      "predicted=5350.727065, actual=5637.666667, difference=286.939602\n",
      "predicted=5829.105677, actual=6374.500000, difference=545.394323\n",
      "predicted=6704.464531, actual=8040.250000, difference=1335.785469\n",
      "predicted=8819.906985, actual=8375.916667, difference=-443.990318\n",
      "predicted=8559.742774, actual=8643.500000, difference=83.757226\n",
      "predicted=8689.015024, actual=8530.666667, difference=-158.348357\n",
      "predicted=8351.180359, actual=8015.083333, difference=-336.097025\n",
      "predicted=7584.970089, actual=7919.416667, difference=334.446577\n",
      "predicted=7811.489630, actual=7901.666667, difference=90.177036\n",
      "predicted=7869.310984, actual=7956.000000, difference=86.689016\n",
      "predicted=8009.540686, actual=7864.583333, difference=-144.957353\n",
      "predicted=7889.252099, actual=7803.333333, difference=-85.918765\n",
      "predicted=7784.030473, actual=8581.250000, difference=797.219527\n",
      "predicted=8914.941527, actual=8902.083333, difference=-12.858194\n",
      "predicted=9069.567681, actual=8905.083333, difference=-164.484348\n",
      "predicted=8923.110016, actual=8656.083333, difference=-267.026682\n",
      "predicted=8526.730195, actual=7913.583333, difference=-613.146862\n",
      "predicted=7484.878845, actual=7677.666667, difference=192.787822\n",
      "predicted=7512.199140, actual=5849.583333, difference=-1662.615807\n",
      "predicted=5069.218894, actual=5343.416667, difference=274.197773\n"
     ]
    }
   ],
   "source": [
    "p = 5  # The number of lag observations included in the model.\n",
    "d = 1  # The number of times that the raw observations are differenced.\n",
    "q = 0  # The size of the moving average window\n",
    "\n",
    "history = [x for x in train]\n",
    "predictions = []\n",
    "\n",
    "for i in range(len(test)):\n",
    "    model = ARIMA(history, order=(p, d, q))\n",
    "    model_fit = model.fit()   # Training the Model\n",
    "    output = model_fit.forecast()   # Making Prediction\n",
    "    predicted = output[0]\n",
    "    predictions.append(predicted)  \n",
    "    actual = test[i]\n",
    "    history.append(actual)\n",
    "    difference = actual - predicted\n",
    "    print('predicted=%f, actual=%f, difference=%f' % (predicted, actual, difference))"
   ]
  },
  {
   "cell_type": "markdown",
   "metadata": {},
   "source": [
    "### Evaluating ARIMA Performance <a class=\"anchor\" id=\"evaluating-arima-performance\"></a>"
   ]
  },
  {
   "cell_type": "code",
   "execution_count": 6,
   "metadata": {},
   "outputs": [
    {
     "name": "stdout",
     "output_type": "stream",
     "text": [
      "Test Score: 537.28 RMSE\n"
     ]
    },
    {
     "data": {
      "text/html": [
       "<div>\n",
       "<style scoped>\n",
       "    .dataframe tbody tr th:only-of-type {\n",
       "        vertical-align: middle;\n",
       "    }\n",
       "\n",
       "    .dataframe tbody tr th {\n",
       "        vertical-align: top;\n",
       "    }\n",
       "\n",
       "    .dataframe thead th {\n",
       "        text-align: right;\n",
       "    }\n",
       "</style>\n",
       "<table border=\"1\" class=\"dataframe\">\n",
       "  <thead>\n",
       "    <tr style=\"text-align: right;\">\n",
       "      <th></th>\n",
       "      <th>actual</th>\n",
       "      <th>predicted</th>\n",
       "      <th>difference</th>\n",
       "    </tr>\n",
       "    <tr>\n",
       "      <th>date</th>\n",
       "      <th></th>\n",
       "      <th></th>\n",
       "      <th></th>\n",
       "    </tr>\n",
       "  </thead>\n",
       "  <tbody>\n",
       "    <tr>\n",
       "      <th>2012-12-31 00:00:00</th>\n",
       "      <td>5434.583333</td>\n",
       "      <td>5581.604174</td>\n",
       "      <td>-147.020840</td>\n",
       "    </tr>\n",
       "    <tr>\n",
       "      <th>2012-12-31 01:00:00</th>\n",
       "      <td>5537.666667</td>\n",
       "      <td>5371.154774</td>\n",
       "      <td>166.511892</td>\n",
       "    </tr>\n",
       "    <tr>\n",
       "      <th>2012-12-31 02:00:00</th>\n",
       "      <td>5202.000000</td>\n",
       "      <td>5678.744867</td>\n",
       "      <td>-476.744867</td>\n",
       "    </tr>\n",
       "    <tr>\n",
       "      <th>2012-12-31 03:00:00</th>\n",
       "      <td>5279.916667</td>\n",
       "      <td>5228.558390</td>\n",
       "      <td>51.358277</td>\n",
       "    </tr>\n",
       "    <tr>\n",
       "      <th>2012-12-31 04:00:00</th>\n",
       "      <td>5637.666667</td>\n",
       "      <td>5350.727065</td>\n",
       "      <td>286.939602</td>\n",
       "    </tr>\n",
       "  </tbody>\n",
       "</table>\n",
       "</div>"
      ],
      "text/plain": [
       "                          actual    predicted  difference\n",
       "date                                                     \n",
       "2012-12-31 00:00:00  5434.583333  5581.604174 -147.020840\n",
       "2012-12-31 01:00:00  5537.666667  5371.154774  166.511892\n",
       "2012-12-31 02:00:00  5202.000000  5678.744867 -476.744867\n",
       "2012-12-31 03:00:00  5279.916667  5228.558390   51.358277\n",
       "2012-12-31 04:00:00  5637.666667  5350.727065  286.939602"
      ]
     },
     "execution_count": 6,
     "metadata": {},
     "output_type": "execute_result"
    }
   ],
   "source": [
    "rmse = sqrt(mean_squared_error(test, predictions))\n",
    "print('Test Score: %.2f RMSE' % rmse)\n",
    "\n",
    "results_df = pd.DataFrame(zip(df.index[train_size:], test), columns=[\"date\", \"actual\"])\n",
    "results_df[\"predicted\"] = predictions\n",
    "results_df[\"difference\"] = results_df[\"actual\"] - results_df[\"predicted\"]\n",
    "results_df = results_df.set_index(\"date\")\n",
    "results_df.head()"
   ]
  },
  {
   "cell_type": "code",
   "execution_count": 7,
   "metadata": {},
   "outputs": [
    {
     "data": {
      "text/html": [
       "<div>\n",
       "<style scoped>\n",
       "    .dataframe tbody tr th:only-of-type {\n",
       "        vertical-align: middle;\n",
       "    }\n",
       "\n",
       "    .dataframe tbody tr th {\n",
       "        vertical-align: top;\n",
       "    }\n",
       "\n",
       "    .dataframe thead th {\n",
       "        text-align: right;\n",
       "    }\n",
       "</style>\n",
       "<table border=\"1\" class=\"dataframe\">\n",
       "  <thead>\n",
       "    <tr style=\"text-align: right;\">\n",
       "      <th></th>\n",
       "      <th>actual</th>\n",
       "      <th>predicted</th>\n",
       "      <th>difference</th>\n",
       "    </tr>\n",
       "  </thead>\n",
       "  <tbody>\n",
       "    <tr>\n",
       "      <th>count</th>\n",
       "      <td>24.000000</td>\n",
       "      <td>24.000000</td>\n",
       "      <td>24.000000</td>\n",
       "    </tr>\n",
       "    <tr>\n",
       "      <th>mean</th>\n",
       "      <td>7347.729167</td>\n",
       "      <td>7358.893537</td>\n",
       "      <td>-11.164370</td>\n",
       "    </tr>\n",
       "    <tr>\n",
       "      <th>std</th>\n",
       "      <td>1335.018256</td>\n",
       "      <td>1374.376405</td>\n",
       "      <td>548.719225</td>\n",
       "    </tr>\n",
       "    <tr>\n",
       "      <th>min</th>\n",
       "      <td>5202.000000</td>\n",
       "      <td>5069.218894</td>\n",
       "      <td>-1662.615807</td>\n",
       "    </tr>\n",
       "    <tr>\n",
       "      <th>25%</th>\n",
       "      <td>5796.604167</td>\n",
       "      <td>5791.515475</td>\n",
       "      <td>-190.119931</td>\n",
       "    </tr>\n",
       "    <tr>\n",
       "      <th>50%</th>\n",
       "      <td>7907.625000</td>\n",
       "      <td>7797.760052</td>\n",
       "      <td>19.250042</td>\n",
       "    </tr>\n",
       "    <tr>\n",
       "      <th>75%</th>\n",
       "      <td>8414.604167</td>\n",
       "      <td>8534.983340</td>\n",
       "      <td>213.140310</td>\n",
       "    </tr>\n",
       "    <tr>\n",
       "      <th>max</th>\n",
       "      <td>8905.083333</td>\n",
       "      <td>9069.567681</td>\n",
       "      <td>1335.785469</td>\n",
       "    </tr>\n",
       "  </tbody>\n",
       "</table>\n",
       "</div>"
      ],
      "text/plain": [
       "            actual    predicted   difference\n",
       "count    24.000000    24.000000    24.000000\n",
       "mean   7347.729167  7358.893537   -11.164370\n",
       "std    1335.018256  1374.376405   548.719225\n",
       "min    5202.000000  5069.218894 -1662.615807\n",
       "25%    5796.604167  5791.515475  -190.119931\n",
       "50%    7907.625000  7797.760052    19.250042\n",
       "75%    8414.604167  8534.983340   213.140310\n",
       "max    8905.083333  9069.567681  1335.785469"
      ]
     },
     "execution_count": 7,
     "metadata": {},
     "output_type": "execute_result"
    }
   ],
   "source": [
    "results_df.describe()"
   ]
  },
  {
   "cell_type": "markdown",
   "metadata": {},
   "source": [
    "### Visualizing ARIMA Performance <a class=\"anchor\" id=\"visualizing-arima-performance\"></a>"
   ]
  },
  {
   "cell_type": "code",
   "execution_count": 8,
   "metadata": {},
   "outputs": [
    {
     "data": {
      "image/png": "[encoded data removed]",
      "text/plain": [
       "<Figure size 1008x432 with 1 Axes>"
      ]
     },
     "metadata": {},
     "output_type": "display_data"
    }
   ],
   "source": [
    "results_df[[\"actual\", \"predicted\"]].plot(title=\"ARIMA Model\\nNet Interchange 24 Hour Forecast\", figsize=(14,6))\n",
    "plt.show()"
   ]
  },
  {
   "cell_type": "markdown",
   "metadata": {},
   "source": [
    "## Neural Network <a class=\"anchor\" id=\"neural-network\"></a>"
   ]
  },
  {
   "cell_type": "markdown",
   "metadata": {},
   "source": [
    "### Train-Test Split <a class=\"anchor\" id=\"train-test-split\"></a>"
   ]
  },
  {
   "cell_type": "code",
   "execution_count": 9,
   "metadata": {},
   "outputs": [],
   "source": [
    "def convert2matrix(data_arr, look_back):\n",
    "    X, Y =[], []\n",
    "    for i in range(len(data_arr)-look_back):\n",
    "        d=i+look_back  \n",
    "        X.append(data_arr[i:d])\n",
    "        Y.append(data_arr[d])\n",
    "    return np.array(X), np.array(Y)"
   ]
  },
  {
   "cell_type": "code",
   "execution_count": 10,
   "metadata": {},
   "outputs": [],
   "source": [
    "lookback = 1\n",
    "train_X, train_Y = convert2matrix(train, lookback)\n",
    "test_X, test_Y = convert2matrix(test, lookback)"
   ]
  },
  {
   "cell_type": "markdown",
   "metadata": {},
   "source": [
    "### Training Neural Network Model <a class=\"anchor\" id=\"training-neural-network-model\"></a>"
   ]
  },
  {
   "cell_type": "code",
   "execution_count": 11,
   "metadata": {},
   "outputs": [
    {
     "name": "stdout",
     "output_type": "stream",
     "text": [
      "Epoch 1/10\n",
      "8758/8758 - 5s - loss: 1311603.0000 - mse: 1311603.0000\n",
      "Epoch 2/10\n",
      "8758/8758 - 5s - loss: 246838.3438 - mse: 246838.3438\n",
      "Epoch 3/10\n",
      "8758/8758 - 5s - loss: 243718.1406 - mse: 243718.1406\n",
      "Epoch 4/10\n",
      "8758/8758 - 5s - loss: 243549.6406 - mse: 243549.6406\n",
      "Epoch 5/10\n",
      "8758/8758 - 6s - loss: 244951.4375 - mse: 244951.4375\n",
      "Epoch 6/10\n",
      "8758/8758 - 5s - loss: 244006.3750 - mse: 244006.3750\n",
      "Epoch 7/10\n",
      "8758/8758 - 5s - loss: 243152.0156 - mse: 243152.0156\n",
      "Epoch 8/10\n",
      "8758/8758 - 5s - loss: 241798.9375 - mse: 241798.9375\n",
      "Epoch 9/10\n",
      "8758/8758 - 6s - loss: 243262.9219 - mse: 243262.9219\n",
      "Epoch 10/10\n",
      "8758/8758 - 5s - loss: 241641.8594 - mse: 241641.8594\n"
     ]
    },
    {
     "data": {
      "text/plain": [
       "<tensorflow.python.keras.callbacks.History at 0x7fd96a1c7490>"
      ]
     },
     "execution_count": 11,
     "metadata": {},
     "output_type": "execute_result"
    }
   ],
   "source": [
    "model = Sequential()\n",
    "model.add(Dense(32, input_dim=lookback, activation='relu'))\n",
    "model.add(Dense(8, activation='relu'))\n",
    "model.add(Dense(1))\n",
    "model.compile(loss='mean_squared_error', optimizer='adam', metrics = ['mse'])\n",
    "model.fit(train_X, train_Y, epochs=10, batch_size=1, verbose=2)"
   ]
  },
  {
   "cell_type": "markdown",
   "metadata": {},
   "source": [
    "### Making Predictions with Neural Network Model <a class=\"anchor\" id=\"making-predictions-with-neural-network-model\"></a>"
   ]
  },
  {
   "cell_type": "code",
   "execution_count": 13,
   "metadata": {},
   "outputs": [
    {
     "name": "stdout",
     "output_type": "stream",
     "text": [
      "Test Score: 627.40 RMSE\n"
     ]
    }
   ],
   "source": [
    "predictions = model.predict(test_X) # Make predictions\n",
    "rmse = sqrt(mean_squared_error(test_Y, predictions))\n",
    "print('Test Score: %.2f RMSE' % rmse)"
   ]
  },
  {
   "cell_type": "markdown",
   "metadata": {},
   "source": [
    "### Evaluating Neural Network Performance <a class=\"anchor\" id=\"evaluating-neural-network-performance\"></a>"
   ]
  },
  {
   "cell_type": "code",
   "execution_count": 14,
   "metadata": {},
   "outputs": [
    {
     "data": {
      "text/html": [
       "<div>\n",
       "<style scoped>\n",
       "    .dataframe tbody tr th:only-of-type {\n",
       "        vertical-align: middle;\n",
       "    }\n",
       "\n",
       "    .dataframe tbody tr th {\n",
       "        vertical-align: top;\n",
       "    }\n",
       "\n",
       "    .dataframe thead th {\n",
       "        text-align: right;\n",
       "    }\n",
       "</style>\n",
       "<table border=\"1\" class=\"dataframe\">\n",
       "  <thead>\n",
       "    <tr style=\"text-align: right;\">\n",
       "      <th></th>\n",
       "      <th>actual</th>\n",
       "      <th>predicted</th>\n",
       "      <th>difference</th>\n",
       "    </tr>\n",
       "    <tr>\n",
       "      <th>date</th>\n",
       "      <th></th>\n",
       "      <th></th>\n",
       "      <th></th>\n",
       "    </tr>\n",
       "  </thead>\n",
       "  <tbody>\n",
       "    <tr>\n",
       "      <th>2012-12-31 00:00:00</th>\n",
       "      <td>5537.666667</td>\n",
       "      <td>5450.208496</td>\n",
       "      <td>87.458171</td>\n",
       "    </tr>\n",
       "    <tr>\n",
       "      <th>2012-12-31 01:00:00</th>\n",
       "      <td>5202.000000</td>\n",
       "      <td>5553.363770</td>\n",
       "      <td>-351.363770</td>\n",
       "    </tr>\n",
       "    <tr>\n",
       "      <th>2012-12-31 02:00:00</th>\n",
       "      <td>5279.916667</td>\n",
       "      <td>5217.459961</td>\n",
       "      <td>62.456706</td>\n",
       "    </tr>\n",
       "    <tr>\n",
       "      <th>2012-12-31 03:00:00</th>\n",
       "      <td>5637.666667</td>\n",
       "      <td>5295.431641</td>\n",
       "      <td>342.235026</td>\n",
       "    </tr>\n",
       "    <tr>\n",
       "      <th>2012-12-31 04:00:00</th>\n",
       "      <td>6374.500000</td>\n",
       "      <td>5653.435059</td>\n",
       "      <td>721.064941</td>\n",
       "    </tr>\n",
       "  </tbody>\n",
       "</table>\n",
       "</div>"
      ],
      "text/plain": [
       "                          actual    predicted  difference\n",
       "date                                                     \n",
       "2012-12-31 00:00:00  5537.666667  5450.208496   87.458171\n",
       "2012-12-31 01:00:00  5202.000000  5553.363770 -351.363770\n",
       "2012-12-31 02:00:00  5279.916667  5217.459961   62.456706\n",
       "2012-12-31 03:00:00  5637.666667  5295.431641  342.235026\n",
       "2012-12-31 04:00:00  6374.500000  5653.435059  721.064941"
      ]
     },
     "execution_count": 14,
     "metadata": {},
     "output_type": "execute_result"
    }
   ],
   "source": [
    "results_df = pd.DataFrame(zip(df.index[train_size:], test_Y), columns=[\"date\", \"actual\"])\n",
    "results_df[\"predicted\"] = predictions\n",
    "results_df[\"difference\"] = results_df[\"actual\"] - results_df[\"predicted\"]\n",
    "results_df = results_df.set_index(\"date\")\n",
    "results_df.head()"
   ]
  },
  {
   "cell_type": "markdown",
   "metadata": {},
   "source": [
    "### Visualizing Neural Network Performance <a class=\"anchor\" id=\"visualizing-neural-network-performance\"></a>"
   ]
  },
  {
   "cell_type": "code",
   "execution_count": 15,
   "metadata": {},
   "outputs": [
    {
     "data": {
      "image/png": "[encoded data removed]",
      "text/plain": [
       "<Figure size 1008x432 with 1 Axes>"
      ]
     },
     "metadata": {},
     "output_type": "display_data"
    }
   ],
   "source": [
    "results_df[[\"actual\", \"predicted\"]].plot(title=\"Neural Network Model\\nNet Interchange 24 Hour Forecast\", figsize=(14,6))\n",
    "plt.show()"
   ]
  }
 ],
 "metadata": {
  "colab": {
   "collapsed_sections": [],
   "name": "ICPE_639_Intro_to_Machine_Learning_Final_Project-SneedL-HannabassR.ipynb",
   "provenance": []
  },
  "kernelspec": {
   "display_name": "Python 3",
   "language": "python",
   "name": "python3"
  },
  "language_info": {
   "codemirror_mode": {
    "name": "ipython",
    "version": 3
   },
   "file_extension": ".py",
   "mimetype": "text/x-python",
   "name": "python",
   "nbconvert_exporter": "python",
   "pygments_lexer": "ipython3",
   "version": "3.8.3"
  }
 },
 "nbformat": 4,
 "nbformat_minor": 4
}
