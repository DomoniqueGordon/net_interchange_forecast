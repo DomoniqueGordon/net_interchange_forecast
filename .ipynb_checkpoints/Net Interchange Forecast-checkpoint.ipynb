{
 "cells": [
  {
   "cell_type": "markdown",
   "metadata": {},
   "source": [
    "# Predicting Net Interchange with ARIMA & Neural Network Models"
   ]
  },
  {
   "cell_type": "markdown",
   "metadata": {},
   "source": [
    "* [Data Preparation](#data-preparation)\n",
    "    * [Package Imports](#package-imports)\n",
    "    * [Data Import](#data-import)\n",
    "    * [Train and Test Data](#train-and-test-data)\n",
    "* [ARIMA](#arima)\n",
    "    * [Evaluating ARIMA Performance](#evaluating-arima-performance)\n",
    "    * [Visualizing ARIMA Performance](#visualizing-arima-performance)\n",
    "* [Neural Network](#neural-network)\n",
    "    * [Train-Test Split](#train-test-split)\n",
    "    * [Training Neural Network Model](#training-neural-network-model)\n",
    "    * [Making Predictions with Neural Network Model](#making-predictions-with-neural-network-model)\n",
    "    * [Evaluating Neural Network Performance](#evaluating-neural-network-performance)\n",
    "    * [Visualizing Neural Network Performance](#visualizing-neural-network-performance)"
   ]
  },
  {
   "cell_type": "markdown",
   "metadata": {},
   "source": [
    "## Data Preparation <a class=\"anchor\" id=\"data-preparation\"></a>"
   ]
  },
  {
   "cell_type": "markdown",
   "metadata": {
    "id": "ZIFieWh4YmZr"
   },
   "source": [
    "### Package Imports <a class=\"anchor\" id=\"package-imports\"></a>"
   ]
  },
  {
   "cell_type": "code",
   "execution_count": 1,
   "metadata": {
    "id": "yVuebIuwYtoF"
   },
   "outputs": [],
   "source": [
    "from math import sqrt\n",
    "import numpy as np\n",
    "import pandas as pd\n",
    "\n",
    "\n",
    "# Data Visualization\n",
    "import matplotlib.pyplot as plt\n",
    "import seaborn as sns\n",
    "\n",
    "# Machine Learning Models\n",
    "from keras.layers import Dense\n",
    "from keras.models import Sequential\n",
    "from sklearn.metrics import mean_squared_error\n",
    "from statsmodels.tsa.arima.model import ARIMA\n",
    "\n",
    "plt.style.use('seaborn-white')"
   ]
  },
  {
   "cell_type": "markdown",
   "metadata": {
    "id": "ZIFieWh4YmZr"
   },
   "source": [
    "### Data Import <a class=\"anchor\" id=\"data-import\"></a>"
   ]
  },
  {
   "cell_type": "code",
   "execution_count": null,
   "metadata": {
    "colab": {
     "base_uri": "https://localhost:8080/",
     "height": 419
    },
    "id": "NJmtlEp9VJdm",
    "outputId": "8200aca5-9544-49c4-c75d-86dbc6de6fdb"
   },
   "outputs": [],
   "source": [
    "filename = 'wind_data.csv'\n",
    "df = pd.read_csv(filename, usecols=[\"Date/Time\", \"NET INTERCHANGE (MW; SCADA 45581)\"])\n",
    "\n",
    "cols = [\"date\",\"net_interchange\"]\n",
    "df.columns = cols                        # Rename columns\n",
    "df[\"date\"] = pd.to_datetime(df[\"date\"])  # Convert to datetime datatype\n",
    "df = df.set_index(\"date\")\n",
    "\n",
    "df = df.resample(\"H\").mean()             # Convert to hourly\n",
    "df = df.dropna()                         # Drop null values\n",
    "\n",
    "df.head()"
   ]
  },
  {
   "cell_type": "code",
   "execution_count": null,
   "metadata": {},
   "outputs": [],
   "source": [
    "df.describe()"
   ]
  },
  {
   "cell_type": "markdown",
   "metadata": {},
   "source": [
    "### Train and Test Data <a class=\"anchor\" id=\"train-and-test-data\"></a>"
   ]
  },
  {
   "cell_type": "code",
   "execution_count": null,
   "metadata": {},
   "outputs": [],
   "source": [
    "X = df[\"net_interchange\"].values\n",
    "test_size = 24  # We will be forecasting 24 hours\n",
    "perc_train = 1 - test_size/len(X)\n",
    "train_size = int(len(X) * perc_train)\n",
    "train, test = X[0:train_size], X[train_size:len(X)]"
   ]
  },
  {
   "cell_type": "markdown",
   "metadata": {},
   "source": [
    "## ARIMA <a class=\"anchor\" id=\"arima\"></a>"
   ]
  },
  {
   "cell_type": "code",
   "execution_count": null,
   "metadata": {},
   "outputs": [],
   "source": [
    "p = 5  # The number of lag observations included in the model.\n",
    "d = 1  # The number of times that the raw observations are differenced.\n",
    "q = 0  # The size of the moving average window\n",
    "\n",
    "history = [x for x in train]\n",
    "predictions = []\n",
    "\n",
    "for i in range(len(test)):\n",
    "    model = ARIMA(history, order=(p, d, q))\n",
    "    model_fit = model.fit()   # Training the Model\n",
    "    output = model_fit.forecast()   # Making Prediction\n",
    "    predicted = output[0]\n",
    "    predictions.append(predicted)  \n",
    "    actual = test[i]\n",
    "    history.append(actual)\n",
    "    difference = actual - predicted\n",
    "    print('predicted=%f, actual=%f, difference=%f' % (predicted, actual, difference))"
   ]
  },
  {
   "cell_type": "markdown",
   "metadata": {},
   "source": [
    "### Evaluating ARIMA Performance <a class=\"anchor\" id=\"evaluating-arima-performance\"></a>"
   ]
  },
  {
   "cell_type": "code",
   "execution_count": null,
   "metadata": {},
   "outputs": [],
   "source": [
    "rmse = sqrt(mean_squared_error(test, predictions))\n",
    "print('Test Score: %.2f RMSE' % rmse)\n",
    "\n",
    "results_df = pd.DataFrame(zip(df.index[train_size:], test), columns=[\"date\", \"actual\"])\n",
    "results_df[\"predicted\"] = predictions\n",
    "results_df[\"difference\"] = results_df[\"actual\"] - results_df[\"predicted\"]\n",
    "results_df = results_df.set_index(\"date\")\n",
    "results_df.head()"
   ]
  },
  {
   "cell_type": "code",
   "execution_count": null,
   "metadata": {},
   "outputs": [],
   "source": [
    "results_df.describe()"
   ]
  },
  {
   "cell_type": "markdown",
   "metadata": {},
   "source": [
    "### Visualizing ARIMA Performance <a class=\"anchor\" id=\"visualizing-arima-performance\"></a>"
   ]
  },
  {
   "cell_type": "code",
   "execution_count": null,
   "metadata": {},
   "outputs": [],
   "source": [
    "results_df[[\"actual\", \"predicted\"]].plot(title=\"ARIMA Model\\nNet Interchange 24 Hour Forecast\", figsize=(14,6))\n",
    "plt.show()"
   ]
  },
  {
   "cell_type": "markdown",
   "metadata": {},
   "source": [
    "## Neural Network <a class=\"anchor\" id=\"neural-network\"></a>"
   ]
  },
  {
   "cell_type": "markdown",
   "metadata": {},
   "source": [
    "### Train-Test Split <a class=\"anchor\" id=\"train-test-split\"></a>"
   ]
  },
  {
   "cell_type": "code",
   "execution_count": null,
   "metadata": {},
   "outputs": [],
   "source": [
    "def convert2matrix(data_arr, look_back):\n",
    "    X, Y =[], []\n",
    "    for i in range(len(data_arr)-look_back):\n",
    "        d=i+look_back  \n",
    "        X.append(data_arr[i:d])\n",
    "        Y.append(data_arr[d])\n",
    "    return np.array(X), np.array(Y)"
   ]
  },
  {
   "cell_type": "code",
   "execution_count": null,
   "metadata": {},
   "outputs": [],
   "source": [
    "lookback = 1\n",
    "train_X, train_Y = convert2matrix(train, lookback)\n",
    "test_X, test_Y = convert2matrix(test, lookback)"
   ]
  },
  {
   "cell_type": "markdown",
   "metadata": {},
   "source": [
    "### Training Neural Network Model <a class=\"anchor\" id=\"training-neural-network-model\"></a>"
   ]
  },
  {
   "cell_type": "code",
   "execution_count": null,
   "metadata": {},
   "outputs": [],
   "source": [
    "model = Sequential()\n",
    "model.add(Dense(32, input_dim=lookback, activation='relu'))\n",
    "model.add(Dense(8, activation='relu'))\n",
    "model.add(Dense(1))\n",
    "model.compile(loss='mean_squared_error', optimizer='adam', metrics = ['mse'])\n",
    "model.fit(train_X, train_Y, epochs=10, batch_size=1, verbose=2)"
   ]
  },
  {
   "cell_type": "markdown",
   "metadata": {},
   "source": [
    "### Making Predictions with Neural Network Model <a class=\"anchor\" id=\"making-predictions-with-neural-network-model\"></a>"
   ]
  },
  {
   "cell_type": "code",
   "execution_count": null,
   "metadata": {},
   "outputs": [],
   "source": [
    "predictions = model.predict(test_X) # Make predictions\n",
    "rmse = sqrt(mean_squared_error(test_Y, predictions))\n",
    "print('Test Score: %.2f RMSE' % rmse)"
   ]
  },
  {
   "cell_type": "markdown",
   "metadata": {},
   "source": [
    "### Evaluating Neural Network Performance <a class=\"anchor\" id=\"evaluating-neural-network-performance\"></a>"
   ]
  },
  {
   "cell_type": "code",
   "execution_count": null,
   "metadata": {},
   "outputs": [],
   "source": [
    "results_df = pd.DataFrame(zip(df.index[train_size+1:], test), columns=[\"date\", \"actual\"])\n",
    "results_df[\"predicted\"] = predictions\n",
    "results_df[\"difference\"] = results_df[\"actual\"] - results_df[\"predicted\"]\n",
    "results_df = results_df.set_index(\"date\")\n",
    "results_df.head()"
   ]
  },
  {
   "cell_type": "code",
   "execution_count": null,
   "metadata": {},
   "outputs": [],
   "source": [
    "results_df.describe()"
   ]
  },
  {
   "cell_type": "markdown",
   "metadata": {},
   "source": [
    "### Visualizing Neural Network Performance <a class=\"anchor\" id=\"visualizing-neural-network-performance\"></a>"
   ]
  },
  {
   "cell_type": "code",
   "execution_count": null,
   "metadata": {},
   "outputs": [],
   "source": [
    "results_df[[\"actual\", \"predicted\"]].plot(title=\"Neural Network Model\\nNet Interchange 24 Hour Forecast\", figsize=(14,6))\n",
    "plt.show()"
   ]
  }
 ],
 "metadata": {
  "colab": {
   "collapsed_sections": [],
   "name": "ICPE_639_Intro_to_Machine_Learning_Final_Project-SneedL-HannabassR.ipynb",
   "provenance": []
  },
  "kernelspec": {
   "display_name": "Python 3",
   "language": "python",
   "name": "python3"
  },
  "language_info": {
   "codemirror_mode": {
    "name": "ipython",
    "version": 3
   },
   "file_extension": ".py",
   "mimetype": "text/x-python",
   "name": "python",
   "nbconvert_exporter": "python",
   "pygments_lexer": "ipython3",
   "version": "3.8.3"
  }
 },
 "nbformat": 4,
 "nbformat_minor": 4
}
